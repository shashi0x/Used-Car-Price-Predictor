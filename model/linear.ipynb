{
 "cells": [
  {
   "cell_type": "markdown",
   "id": "60e0967f",
   "metadata": {},
   "source": [
    "## Here we will be making our model\n",
    "\n",
    "we will begin by importing required libraries"
   ]
  },
  {
   "cell_type": "code",
   "execution_count": 22,
   "id": "1225d762",
   "metadata": {},
   "outputs": [],
   "source": [
    "import numpy as np\n",
    "import pandas as pd\n",
    "import matplotlib.pyplot as plt\n"
   ]
  },
  {
   "cell_type": "markdown",
   "id": "5466f320",
   "metadata": {},
   "source": [
    "now that we have our libraries imported, we will first define some global variables"
   ]
  },
  {
   "cell_type": "code",
   "execution_count": 23,
   "id": "736f9a0e",
   "metadata": {},
   "outputs": [],
   "source": [
    "ALPHA = 0.0001\n",
    "ITERATIONS = 2680\n",
    "B = 0"
   ]
  },
  {
   "cell_type": "markdown",
   "id": "3334acbd",
   "metadata": {},
   "source": [
    "now we will first import and feature scale data using z-scale normalisation\n",
    "\n",
    "### After finding out that our model isn't learning\n",
    "now we will also add some more features into the existing X, like square terms of both 'no. of owners' and age."
   ]
  },
  {
   "cell_type": "code",
   "execution_count": 24,
   "id": "3e2ff8c7",
   "metadata": {},
   "outputs": [],
   "source": [
    "def getData():\n",
    "    df = pd.read_csv('CleanDataNP.csv')\n",
    "    fX = df.to_numpy()[:,0:-1]\n",
    "    X = np.zeros((np.size(fX[:, 0]), 10))\n",
    "    X[:, 0:8] = fX\n",
    "    X[:, 8] = fX[:, 7]**2\n",
    "    X[:, 9] = fX[:, 0]**2\n",
    "    Y = df.to_numpy()[:,-1]\n",
    "    mux = np.mean(X, axis=0)\n",
    "    muy = np.mean(Y, axis=0)\n",
    "    # print(np.shape(mux))\n",
    "    sigx = np.std(X, axis=0)\n",
    "    sigy = np.std(Y, axis=0)\n",
    "    return (X - mux)/sigx, (Y-muy)/sigy, mux, muy, sigx, sigy\n",
    "\n",
    "rX, rY, muX, muY, stdX, stdY = getData()"
   ]
  },
  {
   "cell_type": "markdown",
   "id": "534a4239",
   "metadata": {},
   "source": [
    "before moving further, let's first divide our data into 3 parts-  \n",
    "1. Training set (X, Y) - 60%\n",
    "2. Dev set (dX, dY) - 20%\n",
    "3. Test set (tX. tY) - 20%"
   ]
  },
  {
   "cell_type": "code",
   "execution_count": 25,
   "id": "3de98010",
   "metadata": {},
   "outputs": [
    {
     "name": "stdout",
     "output_type": "stream",
     "text": [
      "(5200, 10) (5200,) (1750, 10) (1750,) (1768, 10) (1768,)\n"
     ]
    }
   ],
   "source": [
    "X, Y = rX[:5200, :], rY[:5200]\n",
    "dX, dY = rX[5200:6950, :], rY[5200:6950]\n",
    "tX, tY = rX[6950:, :], rY[6950:]\n",
    "W = np.zeros(np.shape(X[0]))\n",
    "print(np.shape(X), np.shape(Y), np.shape(dX), np.shape(dY), np.shape(tX), np.shape(tY))"
   ]
  },
  {
   "cell_type": "markdown",
   "id": "e81996d9",
   "metadata": {},
   "source": [
    "now we have the data which is 100% ready to be fed into model.  \n",
    "so now let's make a function that calculate cost function"
   ]
  },
  {
   "cell_type": "code",
   "execution_count": 26,
   "id": "16041cf8",
   "metadata": {},
   "outputs": [
    {
     "name": "stdout",
     "output_type": "stream",
     "text": [
      "0.5388097996627864\n"
     ]
    }
   ],
   "source": [
    "def calculateCost(x, y, w, b):\n",
    "    cost = 0\n",
    "    for i in range(len(y)):\n",
    "        cost += (((np.dot(w, x[i]) + b) - y[i])**2)\n",
    "    return (cost/(2*len(y)))\n",
    "print(calculateCost(X, Y, W, B))"
   ]
  },
  {
   "cell_type": "markdown",
   "id": "2e4d9a60",
   "metadata": {},
   "source": [
    "let's also make a function to calculate MOE (mean obsolute error)"
   ]
  },
  {
   "cell_type": "code",
   "execution_count": 27,
   "id": "295e104f",
   "metadata": {},
   "outputs": [
    {
     "name": "stdout",
     "output_type": "stream",
     "text": [
      "0.5976416438749139\n"
     ]
    }
   ],
   "source": [
    "def calculateMOE(x, y, w, b):\n",
    "    moe = 0\n",
    "    for i in range(len(y)):\n",
    "        moe += abs(np.dot(w, x[i]) + b - y[i])\n",
    "    return (moe/(len(y)))\n",
    "print(calculateMOE(X, Y, W, B))"
   ]
  },
  {
   "cell_type": "markdown",
   "id": "83c9c3cb",
   "metadata": {},
   "source": [
    "Now we will be making a function to calculate gradient for our gradient discent algo"
   ]
  },
  {
   "cell_type": "code",
   "execution_count": 28,
   "id": "625f4db8",
   "metadata": {},
   "outputs": [],
   "source": [
    "def getGradient(x, y, w, b):\n",
    "    grw = 0\n",
    "    grb = 0\n",
    "    for i in range(len(y)):\n",
    "        grw += ((np.dot(w, x[i]) + b) - y[i])*x[i]\n",
    "        grb += ((np.dot(w, x[i]) + b) - y[i])\n",
    "    return (grw/(len(y))), (grb/(len(y)))"
   ]
  },
  {
   "cell_type": "markdown",
   "id": "0c34008f",
   "metadata": {},
   "source": [
    "now perhaps we are ready to iterate and get the real values for w and b"
   ]
  },
  {
   "cell_type": "code",
   "execution_count": 29,
   "id": "7b156542",
   "metadata": {},
   "outputs": [
    {
     "name": "stdout",
     "output_type": "stream",
     "text": [
      "At iteration: 0 Cost: 0.538668939869814 MOE: 0.597514652617288 || Unseen MOE: 0.5606413826768367\n",
      "At iteration: 20 Cost: 0.5358604029724232 MOE: 0.594974827464632 || Unseen MOE: 0.5581199492667612\n",
      "At iteration: 40 Cost: 0.5330683593361791 MOE: 0.5924350023119802 || Unseen MOE: 0.5555985158566844\n",
      "At iteration: 60 Cost: 0.5302928089610868 MOE: 0.5898963139162416 || Unseen MOE: 0.5530770824466106\n",
      "At iteration: 80 Cost: 0.5275337518471436 MOE: 0.5873586983067516 || Unseen MOE: 0.5505563852111897\n",
      "At iteration: 100 Cost: 0.5247911879943483 MOE: 0.584824403410384 || Unseen MOE: 0.5480382157827792\n",
      "At iteration: 120 Cost: 0.5220651174027068 MOE: 0.5822941512229495 || Unseen MOE: 0.5455200463543692\n",
      "At iteration: 140 Cost: 0.5193555400722141 MOE: 0.5797689441533722 || Unseen MOE: 0.5430028463317098\n",
      "At iteration: 160 Cost: 0.5166624560028736 MOE: 0.5772470840353475 || Unseen MOE: 0.5404904175628237\n",
      "At iteration: 180 Cost: 0.5139858651946831 MOE: 0.5747386793842647 || Unseen MOE: 0.5379894264950386\n",
      "At iteration: 200 Cost: 0.5113257676476426 MOE: 0.5722391491699204 || Unseen MOE: 0.5354983790234599\n",
      "At iteration: 220 Cost: 0.5086821633617501 MOE: 0.5697436265696816 || Unseen MOE: 0.5330073315518785\n",
      "At iteration: 240 Cost: 0.506055052337009 MOE: 0.5672511735921554 || Unseen MOE: 0.5305162840803\n",
      "At iteration: 260 Cost: 0.5034444345734159 MOE: 0.5647613173612573 || Unseen MOE: 0.5280252366087197\n",
      "At iteration: 280 Cost: 0.5008503100709806 MOE: 0.562271914148501 || Unseen MOE: 0.5255341891371397\n",
      "At iteration: 300 Cost: 0.4982726788296873 MOE: 0.5597867182647003 || Unseen MOE: 0.5230431416655598\n",
      "At iteration: 320 Cost: 0.4957115408495489 MOE: 0.5573153073333819 || Unseen MOE: 0.5205708764786101\n",
      "At iteration: 340 Cost: 0.49316689613056136 MOE: 0.5548575731286537 || Unseen MOE: 0.5181086102052348\n",
      "At iteration: 360 Cost: 0.4906387446727211 MOE: 0.5524031325589897 || Unseen MOE: 0.515648663631916\n",
      "At iteration: 380 Cost: 0.4881270864760307 MOE: 0.5499529334431288 || Unseen MOE: 0.5131920476636237\n",
      "At iteration: 400 Cost: 0.48563192154049395 MOE: 0.5475104275334995 || Unseen MOE: 0.5107386890743064\n",
      "At iteration: 420 Cost: 0.4831532498661029 MOE: 0.545071729467051 || Unseen MOE: 0.5082873877398729\n",
      "At iteration: 440 Cost: 0.48069107145286744 MOE: 0.542634797690503 || Unseen MOE: 0.5058360864054374\n",
      "At iteration: 460 Cost: 0.4782453863007809 MOE: 0.540200365463194 || Unseen MOE: 0.5033847850710033\n",
      "At iteration: 480 Cost: 0.47581619440983985 MOE: 0.5377702305529557 || Unseen MOE: 0.5009345991545364\n",
      "At iteration: 500 Cost: 0.4734034957800554 MOE: 0.5353458752990711 || Unseen MOE: 0.49849419230611675\n",
      "At iteration: 520 Cost: 0.4710072904114175 MOE: 0.5329312085914566 || Unseen MOE: 0.49606353405714626\n",
      "At iteration: 540 Cost: 0.46862757830392926 MOE: 0.5305195918416508 || Unseen MOE: 0.4936388042215005\n",
      "At iteration: 560 Cost: 0.4662643594575948 MOE: 0.5281106239503273 || Unseen MOE: 0.49121408882765255\n",
      "At iteration: 580 Cost: 0.4639176338724041 MOE: 0.5257057104025427 || Unseen MOE: 0.4887914233924447\n",
      "At iteration: 600 Cost: 0.46158740154836986 MOE: 0.5233025760048341 || Unseen MOE: 0.4863687579572348\n",
      "At iteration: 620 Cost: 0.45927366248548435 MOE: 0.5209042721195694 || Unseen MOE: 0.48394609252202586\n",
      "At iteration: 640 Cost: 0.4569764166837497 MOE: 0.5185083202260439 || Unseen MOE: 0.48152670726589\n",
      "At iteration: 660 Cost: 0.45469566414316404 MOE: 0.516113782078163 || Unseen MOE: 0.4791073672974192\n",
      "At iteration: 680 Cost: 0.45243140486373196 MOE: 0.51372053296807 || Unseen MOE: 0.4766919740340675\n",
      "At iteration: 700 Cost: 0.45018363884544593 MOE: 0.5113351731364147 || Unseen MOE: 0.4742789844159505\n",
      "At iteration: 720 Cost: 0.44795236608831174 MOE: 0.5089530431944091 || Unseen MOE: 0.47186787001497915\n",
      "At iteration: 740 Cost: 0.4457375865923288 MOE: 0.5065718740158506 || Unseen MOE: 0.46945880558729874\n",
      "At iteration: 760 Cost: 0.4435393003574914 MOE: 0.5041924878007511 || Unseen MOE: 0.4670497411596173\n",
      "At iteration: 780 Cost: 0.4413575073838098 MOE: 0.5018255053745071 || Unseen MOE: 0.4646417681188782\n",
      "At iteration: 800 Cost: 0.4391922076712785 MOE: 0.4994666584637446 || Unseen MOE: 0.4622344467177105\n",
      "At iteration: 820 Cost: 0.4370434012198928 MOE: 0.4971091856441604 || Unseen MOE: 0.45982822080312274\n",
      "At iteration: 840 Cost: 0.4349110880296599 MOE: 0.4947545766914724 || Unseen MOE: 0.4574396284637924\n",
      "At iteration: 860 Cost: 0.4327952681005803 MOE: 0.49240743848541974 || Unseen MOE: 0.4550555369203827\n",
      "At iteration: 880 Cost: 0.4306959414326458 MOE: 0.4900626662861617 || Unseen MOE: 0.45267374536675425\n",
      "At iteration: 900 Cost: 0.42861310802586583 MOE: 0.48771890293927056 || Unseen MOE: 0.45030500914035526\n",
      "At iteration: 920 Cost: 0.426546767880231 MOE: 0.48537678380255234 || Unseen MOE: 0.44793627291395555\n",
      "At iteration: 940 Cost: 0.42449692099575337 MOE: 0.48303964842118724 || Unseen MOE: 0.4455698528363877\n",
      "At iteration: 960 Cost: 0.42246356737242013 MOE: 0.48072022883989146 || Unseen MOE: 0.44320914760593\n",
      "At iteration: 980 Cost: 0.4204467070102374 MOE: 0.478403047343932 || Unseen MOE: 0.4408588433238187\n",
      "At iteration: 1000 Cost: 0.41844633990920554 MOE: 0.47609897232614806 || Unseen MOE: 0.4385128565887894\n",
      "At iteration: 1020 Cost: 0.4164624660693269 MOE: 0.47380048553571136 || Unseen MOE: 0.4361691871309139\n",
      "At iteration: 1040 Cost: 0.41449508549059794 MOE: 0.47150954250312804 || Unseen MOE: 0.4338345570751317\n",
      "At iteration: 1060 Cost: 0.4125441981730179 MOE: 0.4692389734155926 || Unseen MOE: 0.43152074481527325\n",
      "At iteration: 1080 Cost: 0.4106098041165903 MOE: 0.46697341895699684 || Unseen MOE: 0.42921346830146584\n",
      "At iteration: 1100 Cost: 0.4086919033213097 MOE: 0.46470862797254076 || Unseen MOE: 0.4269063077909149\n",
      "At iteration: 1120 Cost: 0.4067904957871796 MOE: 0.4624517833001218 || Unseen MOE: 0.4246042093550487\n",
      "At iteration: 1140 Cost: 0.4049055815142017 MOE: 0.46020062418749863 || Unseen MOE: 0.4223039300745924\n",
      "At iteration: 1160 Cost: 0.4030371605023738 MOE: 0.45796563063632606 || Unseen MOE: 0.42000415180715767\n",
      "At iteration: 1180 Cost: 0.4011852327516946 MOE: 0.45573583609833707 || Unseen MOE: 0.41770593817542134\n",
      "At iteration: 1200 Cost: 0.3993497982621669 MOE: 0.4535119805551184 || Unseen MOE: 0.41540824338438354\n",
      "At iteration: 1220 Cost: 0.39753085703378815 MOE: 0.45130030002309207 || Unseen MOE: 0.4131117513248156\n",
      "At iteration: 1240 Cost: 0.39572840906656087 MOE: 0.4491032232301835 || Unseen MOE: 0.41081799970952704\n",
      "At iteration: 1260 Cost: 0.39394245436048364 MOE: 0.4469161302383268 || Unseen MOE: 0.40852424809424\n",
      "At iteration: 1280 Cost: 0.3921729929155557 MOE: 0.4447351061696589 || Unseen MOE: 0.4062372803267723\n",
      "At iteration: 1300 Cost: 0.39042002473178067 MOE: 0.44257331946480605 || Unseen MOE: 0.40396961095707845\n",
      "At iteration: 1320 Cost: 0.3886835498091543 MOE: 0.4404289425180651 || Unseen MOE: 0.4017117216478315\n",
      "At iteration: 1340 Cost: 0.38696356814767957 MOE: 0.43829126519980555 || Unseen MOE: 0.3994540074449815\n",
      "At iteration: 1360 Cost: 0.3852600797473523 MOE: 0.4361710095289775 || Unseen MOE: 0.397215079829104\n",
      "At iteration: 1380 Cost: 0.38357308460817696 MOE: 0.43406684632060144 || Unseen MOE: 0.39498449668820373\n",
      "At iteration: 1400 Cost: 0.3819025827301519 MOE: 0.4320383016703848 || Unseen MOE: 0.39281796566447885\n",
      "At iteration: 1420 Cost: 0.380248574113278 MOE: 0.4300539918261377 || Unseen MOE: 0.3906883780484988\n",
      "At iteration: 1440 Cost: 0.37861105875755213 MOE: 0.42807774555976136 || Unseen MOE: 0.38856972950300983\n",
      "At iteration: 1460 Cost: 0.3769900366629766 MOE: 0.4261226349550976 || Unseen MOE: 0.38647475835897127\n",
      "At iteration: 1480 Cost: 0.3753855078295534 MOE: 0.4241849020248602 || Unseen MOE: 0.38439504517562545\n",
      "At iteration: 1500 Cost: 0.3737974722572787 MOE: 0.4222706233507535 || Unseen MOE: 0.3823355588174399\n",
      "At iteration: 1520 Cost: 0.3722259299461551 MOE: 0.4203696365194906 || Unseen MOE: 0.3803037658729456\n",
      "At iteration: 1540 Cost: 0.3706708808961826 MOE: 0.41848560734854484 || Unseen MOE: 0.37830955265342026\n",
      "At iteration: 1560 Cost: 0.3691323251073565 MOE: 0.4166832195225576 || Unseen MOE: 0.3763994512082496\n",
      "At iteration: 1580 Cost: 0.3676102625796839 MOE: 0.4149141595060116 || Unseen MOE: 0.3745139723989308\n",
      "At iteration: 1600 Cost: 0.3661046933131635 MOE: 0.4131560701685487 || Unseen MOE: 0.3726344996025606\n",
      "At iteration: 1620 Cost: 0.364615617307791 MOE: 0.41141346175941906 || Unseen MOE: 0.3707672752945836\n",
      "At iteration: 1640 Cost: 0.3631430345635682 MOE: 0.4096873103501372 || Unseen MOE: 0.3689146828469226\n",
      "At iteration: 1660 Cost: 0.36168694508049715 MOE: 0.407978410195663 || Unseen MOE: 0.36707417152916594\n",
      "At iteration: 1680 Cost: 0.36024734885857507 MOE: 0.40628436858280065 || Unseen MOE: 0.3652521067000975\n",
      "At iteration: 1700 Cost: 0.3588242458978047 MOE: 0.40460828026296525 || Unseen MOE: 0.363467738141244\n",
      "At iteration: 1720 Cost: 0.3574176361981811 MOE: 0.40297353045443784 || Unseen MOE: 0.36175675364588883\n",
      "At iteration: 1740 Cost: 0.35602751975971075 MOE: 0.40134870451637755 || Unseen MOE: 0.3600866712078065\n",
      "At iteration: 1760 Cost: 0.35465389658238844 MOE: 0.3997500494890124 || Unseen MOE: 0.3584695434247596\n",
      "At iteration: 1780 Cost: 0.3532967666662217 MOE: 0.3981712673496805 || Unseen MOE: 0.356869652020011\n",
      "At iteration: 1800 Cost: 0.35195613001120085 MOE: 0.39660331950259126 || Unseen MOE: 0.3552863992531891\n",
      "At iteration: 1820 Cost: 0.3506319866173313 MOE: 0.395055046408022 || Unseen MOE: 0.3537265430121984\n",
      "At iteration: 1840 Cost: 0.3493243364846105 MOE: 0.3935231508106863 || Unseen MOE: 0.35220800990421663\n",
      "At iteration: 1860 Cost: 0.34803317961304137 MOE: 0.3920132988904535 || Unseen MOE: 0.3507121764601973\n",
      "At iteration: 1880 Cost: 0.34675851600262336 MOE: 0.3905313586130536 || Unseen MOE: 0.3492395634336448\n",
      "At iteration: 1900 Cost: 0.34550034565335197 MOE: 0.38906589100440936 || Unseen MOE: 0.3477931110739679\n",
      "At iteration: 1920 Cost: 0.3442586685652387 MOE: 0.3876430159376952 || Unseen MOE: 0.3463768651830528\n",
      "At iteration: 1940 Cost: 0.34303348473826784 MOE: 0.3862582981168379 || Unseen MOE: 0.34499391261870566\n",
      "At iteration: 1960 Cost: 0.3418247941724485 MOE: 0.3848945099305557 || Unseen MOE: 0.3436308125400075\n",
      "At iteration: 1980 Cost: 0.3406325968677819 MOE: 0.38355094756176594 || Unseen MOE: 0.3422842315768294\n",
      "At iteration: 2000 Cost: 0.339456892824264 MOE: 0.3822352593143803 || Unseen MOE: 0.3409736094030438\n",
      "At iteration: 2020 Cost: 0.3382976820418969 MOE: 0.38093911774978145 || Unseen MOE: 0.33968744042834254\n",
      "At iteration: 2040 Cost: 0.33715496452067883 MOE: 0.3796955766092439 || Unseen MOE: 0.3384757982727473\n",
      "At iteration: 2060 Cost: 0.3360287402606153 MOE: 0.3784794022388934 || Unseen MOE: 0.33728824277206104\n",
      "At iteration: 2080 Cost: 0.3349190092616984 MOE: 0.37729082146030746 || Unseen MOE: 0.33615677017474616\n",
      "At iteration: 2100 Cost: 0.3338257715239309 MOE: 0.3761340371169059 || Unseen MOE: 0.3350663815236123\n",
      "At iteration: 2120 Cost: 0.33274902704731607 MOE: 0.374999343650796 || Unseen MOE: 0.33398962723575815\n",
      "At iteration: 2140 Cost: 0.3316887758318508 MOE: 0.3738919059588594 || Unseen MOE: 0.33294008802650454\n",
      "At iteration: 2160 Cost: 0.3306450178775349 MOE: 0.37280604945660517 || Unseen MOE: 0.3319282258025724\n",
      "At iteration: 2180 Cost: 0.329617753184372 MOE: 0.3717607313770624 || Unseen MOE: 0.33096747272874266\n",
      "At iteration: 2200 Cost: 0.3286069817523551 MOE: 0.37078845560674367 || Unseen MOE: 0.3300547416258765\n",
      "At iteration: 2220 Cost: 0.32761270358148836 MOE: 0.3698557717530776 || Unseen MOE: 0.32916970390364214\n",
      "At iteration: 2240 Cost: 0.32663491867177713 MOE: 0.3689469139393417 || Unseen MOE: 0.32829281499330415\n",
      "At iteration: 2260 Cost: 0.3256736270232112 MOE: 0.3680677078411166 || Unseen MOE: 0.3274275109499127\n",
      "At iteration: 2280 Cost: 0.3247288286358005 MOE: 0.3672391754376081 || Unseen MOE: 0.3266039694063708\n",
      "At iteration: 2300 Cost: 0.3238005235095354 MOE: 0.3664631053609293 || Unseen MOE: 0.3258330272471421\n",
      "At iteration: 2320 Cost: 0.3228887116444217 MOE: 0.36574233629553793 || Unseen MOE: 0.32511899406127626\n",
      "At iteration: 2340 Cost: 0.32199339304045804 MOE: 0.36506224056873304 || Unseen MOE: 0.3244492893168165\n",
      "At iteration: 2360 Cost: 0.32111456769764823 MOE: 0.364447132599207 || Unseen MOE: 0.3238450522753044\n",
      "At iteration: 2380 Cost: 0.3202522356159865 MOE: 0.36386872842770246 || Unseen MOE: 0.3232762953183462\n",
      "At iteration: 2400 Cost: 0.3194063967954712 MOE: 0.3633226315493754 || Unseen MOE: 0.32274975071655887\n",
      "At iteration: 2420 Cost: 0.3185770512361113 MOE: 0.36280839602162934 || Unseen MOE: 0.32225219805544153\n",
      "At iteration: 2440 Cost: 0.31776419893789953 MOE: 0.3623383398089076 || Unseen MOE: 0.32178470253527064\n",
      "At iteration: 2460 Cost: 0.3169678399008381 MOE: 0.3619097176459176 || Unseen MOE: 0.3213363054067067\n",
      "At iteration: 2480 Cost: 0.316187974124925 MOE: 0.36154273534536574 || Unseen MOE: 0.3209656964031474\n",
      "At iteration: 2500 Cost: 0.3154246016101667 MOE: 0.36121572977542565 || Unseen MOE: 0.32064039481414397\n",
      "At iteration: 2520 Cost: 0.3146777223565554 MOE: 0.3609410932242176 || Unseen MOE: 0.32036294816355904\n",
      "At iteration: 2540 Cost: 0.313947336364094 MOE: 0.36071804675552355 || Unseen MOE: 0.32014770521338526\n",
      "At iteration: 2560 Cost: 0.31323344363278566 MOE: 0.36054881477068973 || Unseen MOE: 0.3199714717088667\n",
      "At iteration: 2580 Cost: 0.3125360441626249 MOE: 0.360411101539352 || Unseen MOE: 0.3198232869316863\n",
      "At iteration: 2600 Cost: 0.31185513795361625 MOE: 0.36029149572742436 || Unseen MOE: 0.31970964898050247\n",
      "At iteration: 2620 Cost: 0.3111907250057566 MOE: 0.36018935280916947 || Unseen MOE: 0.3196125336001878\n",
      "At iteration: 2640 Cost: 0.3105428053190477 MOE: 0.3601051473006239 || Unseen MOE: 0.3195451147489491\n",
      "At iteration: 2660 Cost: 0.3099113788934883 MOE: 0.36003624327073736 || Unseen MOE: 0.31949129544296384\n",
      "[-0.10814041  0.18148605 -0.07496608  0.07741793  0.09679942 -0.00854975\n",
      "  0.12460165  0.0701111   0.0866875  -0.08634785] 0.00926966833049783\n"
     ]
    }
   ],
   "source": [
    "def getWB(x, y, w, b):\n",
    "    global W, B, tX, tY\n",
    "    for i in range(ITERATIONS):\n",
    "        grw, grb = getGradient(x, y, w, b)\n",
    "        tw = W - ALPHA*grw\n",
    "        tb = B - ALPHA*grb\n",
    "        W, B = tw, tb\n",
    "        if i%20 == 0:\n",
    "            print(\"At iteration:\", i, \"Cost:\", calculateCost(X, Y, W, B), \"MOE:\", calculateMOE(X, Y, W, B), \"|| Unseen MOE:\", calculateMOE(tX, tY, W, B))\n",
    "getWB(X, Y, W, B)\n",
    "print(W, B)"
   ]
  },
  {
   "cell_type": "code",
   "execution_count": 30,
   "id": "17352005",
   "metadata": {},
   "outputs": [
    {
     "name": "stdout",
     "output_type": "stream",
     "text": [
      "2931836.910532183 1098000.0\n",
      "[[5.0000e+00 2.2000e+01 1.7000e+05 ... 1.0000e+00 1.0000e+00 2.5000e+01]\n",
      " [4.0000e+00 8.0000e+00 4.5047e+04 ... 1.0000e+00 1.0000e+00 1.6000e+01]\n",
      " [8.0000e+00 1.0000e+01 5.0226e+04 ... 1.0000e+00 1.0000e+00 6.4000e+01]\n",
      " ...\n",
      " [1.3000e+01 2.2000e+01 7.4652e+04 ... 1.0000e+00 1.0000e+00 1.6900e+02]\n",
      " [6.0000e+00 1.0000e+01 6.4000e+04 ... 1.0000e+00 1.0000e+00 3.6000e+01]\n",
      " [1.2000e+01 1.2000e+01 7.1365e+04 ... 1.0000e+00 1.0000e+00 1.4400e+02]] [2000000.  950000.  850000. ...  188000.  425000.  218000.]\n"
     ]
    }
   ],
   "source": [
    "prices = np.dot(W, dX[0]) + B\n",
    "print(prices*stdY + muY, dY[0]*stdY + muY)\n",
    "\n",
    "print(X*stdX + muX, Y*stdY + muY)"
   ]
  },
  {
   "cell_type": "markdown",
   "id": "2591cbbd",
   "metadata": {},
   "source": [
    "## So now our model isn't learning...\n",
    "33L predicted vs 10.9L real is very very wrong!!!\n",
    "\n",
    "since X and Y are mapping to each other correctly (I checked),\n",
    "now we will be doing some feature engineering and then using regularization."
   ]
  }
 ],
 "metadata": {
  "kernelspec": {
   "display_name": "base",
   "language": "python",
   "name": "python3"
  },
  "language_info": {
   "codemirror_mode": {
    "name": "ipython",
    "version": 3
   },
   "file_extension": ".py",
   "mimetype": "text/x-python",
   "name": "python",
   "nbconvert_exporter": "python",
   "pygments_lexer": "ipython3",
   "version": "3.12.7"
  }
 },
 "nbformat": 4,
 "nbformat_minor": 5
}
