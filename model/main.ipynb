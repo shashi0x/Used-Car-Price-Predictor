{
 "cells": [
  {
   "cell_type": "markdown",
   "id": "60e0967f",
   "metadata": {},
   "source": [
    "## Here we will be making our model\n",
    "\n",
    "we will begin by importing required libraries"
   ]
  },
  {
   "cell_type": "code",
   "execution_count": 104,
   "id": "1225d762",
   "metadata": {},
   "outputs": [],
   "source": [
    "import numpy as np\n",
    "import pandas as pd\n",
    "import matplotlib.pyplot as plt\n"
   ]
  },
  {
   "cell_type": "markdown",
   "id": "5466f320",
   "metadata": {},
   "source": [
    "now that we have our libraries imported, we will first define some global variables"
   ]
  },
  {
   "cell_type": "code",
   "execution_count": null,
   "id": "736f9a0e",
   "metadata": {},
   "outputs": [],
   "source": [
    "ALPHA = 0.00001\n",
    "ITERATIONS = 1000\n",
    "W = np.zeros(8)\n",
    "B = 0"
   ]
  },
  {
   "cell_type": "markdown",
   "id": "3334acbd",
   "metadata": {},
   "source": [
    "now we will first import and feature scale data using z-scale normalisation"
   ]
  },
  {
   "cell_type": "code",
   "execution_count": 106,
   "id": "3e2ff8c7",
   "metadata": {},
   "outputs": [],
   "source": [
    "def getData():\n",
    "    df = pd.read_csv('CleanDataNP.csv')\n",
    "    X = df.to_numpy()[:,0:-1]\n",
    "    Y = df.to_numpy()[:,-1]\n",
    "    mux = np.mean(X, axis=0)\n",
    "    muy = np.mean(Y, axis=0)\n",
    "    # print(np.shape(mux))\n",
    "    sigx = np.std(X, axis=0)\n",
    "    sigy = np.std(Y, axis=0)\n",
    "    return (X - mux)/sigx, (Y-muy)/sigy, mux, muy, sigx, sigy\n",
    "\n",
    "rX, rY, muX, muY, stdX, stdY = getData()"
   ]
  },
  {
   "cell_type": "markdown",
   "id": "534a4239",
   "metadata": {},
   "source": [
    "before moving further, let's first divide our data into 3 parts-  \n",
    "1. Training set (X, Y) - 60%\n",
    "2. Dev set (dX, dY) - 20%\n",
    "3. Test set (tX. tY) - 20%"
   ]
  },
  {
   "cell_type": "code",
   "execution_count": 107,
   "id": "3de98010",
   "metadata": {},
   "outputs": [
    {
     "name": "stdout",
     "output_type": "stream",
     "text": [
      "(5200, 8) (5200,) (1750, 8) (1750,) (1768, 8) (1768,)\n"
     ]
    }
   ],
   "source": [
    "X, Y = rX[:5200, :], rY[:5200]\n",
    "dX, dY = rX[5200:6950, :], rY[5200:6950]\n",
    "tX, tY = rX[6950:, :], rY[6950:]\n",
    "print(np.shape(X), np.shape(Y), np.shape(dX), np.shape(dY), np.shape(tX), np.shape(tY))"
   ]
  },
  {
   "cell_type": "markdown",
   "id": "e81996d9",
   "metadata": {},
   "source": [
    "now we have the data which is 100% ready to be fed into model.  \n",
    "so now let's make a function that calculate cost function"
   ]
  },
  {
   "cell_type": "code",
   "execution_count": 108,
   "id": "16041cf8",
   "metadata": {},
   "outputs": [
    {
     "name": "stdout",
     "output_type": "stream",
     "text": [
      "0.5388097996627936\n"
     ]
    }
   ],
   "source": [
    "def calculateCost(x, y, w, b):\n",
    "    cost = 0\n",
    "    for i in range(len(y)):\n",
    "        cost += (1/(2*len(y))*(((np.dot(w, x[i]) + b) - y[i])**2))\n",
    "    return cost\n",
    "print(calculateCost(X, Y, W, B))"
   ]
  },
  {
   "cell_type": "markdown",
   "id": "2e4d9a60",
   "metadata": {},
   "source": [
    "let's also make a function to calculate MOE (mean obsolute error)"
   ]
  },
  {
   "cell_type": "code",
   "execution_count": 109,
   "id": "295e104f",
   "metadata": {},
   "outputs": [
    {
     "name": "stdout",
     "output_type": "stream",
     "text": [
      "0.29882082193745696\n"
     ]
    }
   ],
   "source": [
    "def calculateMOE(x, y, w, b):\n",
    "    moe = 0\n",
    "    for i in range(len(y)):\n",
    "        moe += abs(np.dot(w, x[i]) + b - y[i])\n",
    "    return (1/(2*len(y)))*moe\n",
    "print(calculateMOE(X, Y, W, B))"
   ]
  },
  {
   "cell_type": "markdown",
   "id": "83c9c3cb",
   "metadata": {},
   "source": [
    "Now we will be making a function to calculate gradient for our gradient discent algo"
   ]
  },
  {
   "cell_type": "code",
   "execution_count": 110,
   "id": "625f4db8",
   "metadata": {},
   "outputs": [],
   "source": [
    "def getGradient(x, y, w, b):\n",
    "    grw = 0\n",
    "    grb = 0\n",
    "    for i in range(len(y)):\n",
    "        grw += ((np.dot(w, x[i]) + b) - y[i])*x[i]\n",
    "        grb += ((np.dot(w, x[i]) + b) - y[i])\n",
    "    return (1/(2*len(y)))*grw, (1/(2*len(y)))*grb"
   ]
  },
  {
   "cell_type": "markdown",
   "id": "0c34008f",
   "metadata": {},
   "source": [
    "now perhaps we are ready to iterate and get the real values for w and b"
   ]
  },
  {
   "cell_type": "code",
   "execution_count": 111,
   "id": "7b156542",
   "metadata": {},
   "outputs": [
    {
     "name": "stdout",
     "output_type": "stream",
     "text": [
      "At iteration: 0 Cost: 0.5388037978563048 MOE: 0.29881804373085247 || Unseen MOE: 0.28038097494259245\n",
      "At iteration: 100 Cost: 0.5382039846148009 MOE: 0.29854022307011446 || Unseen MOE: 0.2801057518348282\n",
      "At iteration: 200 Cost: 0.5376048989120964 MOE: 0.29826240240937774 || Unseen MOE: 0.2798305287270643\n",
      "At iteration: 300 Cost: 0.5370065407481904 MOE: 0.2979845817486408 || Unseen MOE: 0.2795553056193002\n",
      "At iteration: 400 Cost: 0.536408910123083 MOE: 0.2977067610879038 || Unseen MOE: 0.2792800825115368\n",
      "At iteration: 500 Cost: 0.5358120070367739 MOE: 0.2974289404271666 || Unseen MOE: 0.2790048594037725\n",
      "At iteration: 600 Cost: 0.5352158314892616 MOE: 0.2971511197664298 || Unseen MOE: 0.27872963629600833\n",
      "At iteration: 700 Cost: 0.5346203834805497 MOE: 0.29687329910569327 || Unseen MOE: 0.27845441318824515\n",
      "At iteration: 800 Cost: 0.5340256630106393 MOE: 0.29659547844495515 || Unseen MOE: 0.27817919008048136\n",
      "At iteration: 900 Cost: 0.533431670079524 MOE: 0.2963176577842178 || Unseen MOE: 0.2779039669727162\n",
      "[-0.00201754  0.00338593 -0.00139862  0.00144436  0.00180596 -0.00015951\n",
      "  0.00232466  0.00130804] 0.0001729415733301974\n"
     ]
    }
   ],
   "source": [
    "def getWB(x, y, w, b):\n",
    "    global W, B, tX, tY\n",
    "    for i in range(ITERATIONS):\n",
    "        grw, grb = getGradient(x, y, w, b)\n",
    "        tw = W - ALPHA*grw\n",
    "        tb = B - ALPHA*grb\n",
    "        W, B = tw, tb\n",
    "        if i%100 == 0:\n",
    "            print(\"At iteration:\", i, \"Cost:\", calculateCost(X, Y, W, B), \"MOE:\", calculateMOE(X, Y, W, B), \"|| Unseen MOE:\", calculateMOE(tX, tY, W, B))\n",
    "getWB(X, Y, W, B)\n",
    "print(W, B)"
   ]
  },
  {
   "cell_type": "code",
   "execution_count": 112,
   "id": "17352005",
   "metadata": {},
   "outputs": [
    {
     "name": "stdout",
     "output_type": "stream",
     "text": [
      "1939603.7216208973 1098000.0\n"
     ]
    }
   ],
   "source": [
    "prices = np.dot(W, dX[0]) + B\n",
    "print(prices*stdY + muY, dY[0]*stdY + muY)"
   ]
  }
 ],
 "metadata": {
  "kernelspec": {
   "display_name": "base",
   "language": "python",
   "name": "python3"
  },
  "language_info": {
   "codemirror_mode": {
    "name": "ipython",
    "version": 3
   },
   "file_extension": ".py",
   "mimetype": "text/x-python",
   "name": "python",
   "nbconvert_exporter": "python",
   "pygments_lexer": "ipython3",
   "version": "3.12.7"
  }
 },
 "nbformat": 4,
 "nbformat_minor": 5
}
