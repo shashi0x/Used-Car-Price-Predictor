{
 "cells": [
  {
   "cell_type": "markdown",
   "id": "60e0967f",
   "metadata": {},
   "source": [
    "## Here we will be making our model\n",
    "\n",
    "we will begin by importing required libraries"
   ]
  },
  {
   "cell_type": "code",
   "execution_count": 155,
   "id": "1225d762",
   "metadata": {},
   "outputs": [],
   "source": [
    "import numpy as np\n",
    "import pandas as pd\n",
    "import matplotlib.pyplot as plt\n"
   ]
  },
  {
   "cell_type": "markdown",
   "id": "5466f320",
   "metadata": {},
   "source": [
    "now that we have our libraries imported, we will first define some global variables"
   ]
  },
  {
   "cell_type": "code",
   "execution_count": 156,
   "id": "736f9a0e",
   "metadata": {},
   "outputs": [],
   "source": [
    "ALPHA = 0.0001\n",
    "ITERATIONS = 3000\n",
    "W = np.zeros(8)\n",
    "B = 0"
   ]
  },
  {
   "cell_type": "markdown",
   "id": "3334acbd",
   "metadata": {},
   "source": [
    "now we will first import and feature scale data using z-scale normalisation"
   ]
  },
  {
   "cell_type": "code",
   "execution_count": 157,
   "id": "3e2ff8c7",
   "metadata": {},
   "outputs": [],
   "source": [
    "def getData():\n",
    "    df = pd.read_csv('CleanDataNP.csv')\n",
    "    X = df.to_numpy()[:,0:-1]\n",
    "    Y = df.to_numpy()[:,-1]\n",
    "    mux = np.mean(X, axis=0)\n",
    "    muy = np.mean(Y, axis=0)\n",
    "    # print(np.shape(mux))\n",
    "    sigx = np.std(X, axis=0)\n",
    "    sigy = np.std(Y, axis=0)\n",
    "    return (X - mux)/sigx, (Y-muy)/sigy, mux, muy, sigx, sigy\n",
    "\n",
    "rX, rY, muX, muY, stdX, stdY = getData()"
   ]
  },
  {
   "cell_type": "markdown",
   "id": "534a4239",
   "metadata": {},
   "source": [
    "before moving further, let's first divide our data into 3 parts-  \n",
    "1. Training set (X, Y) - 60%\n",
    "2. Dev set (dX, dY) - 20%\n",
    "3. Test set (tX. tY) - 20%"
   ]
  },
  {
   "cell_type": "code",
   "execution_count": 158,
   "id": "3de98010",
   "metadata": {},
   "outputs": [
    {
     "name": "stdout",
     "output_type": "stream",
     "text": [
      "(5200, 8) (5200,) (1750, 8) (1750,) (1768, 8) (1768,)\n"
     ]
    }
   ],
   "source": [
    "X, Y = rX[:5200, :], rY[:5200]\n",
    "dX, dY = rX[5200:6950, :], rY[5200:6950]\n",
    "tX, tY = rX[6950:, :], rY[6950:]\n",
    "print(np.shape(X), np.shape(Y), np.shape(dX), np.shape(dY), np.shape(tX), np.shape(tY))"
   ]
  },
  {
   "cell_type": "markdown",
   "id": "e81996d9",
   "metadata": {},
   "source": [
    "now we have the data which is 100% ready to be fed into model.  \n",
    "so now let's make a function that calculate cost function"
   ]
  },
  {
   "cell_type": "code",
   "execution_count": 159,
   "id": "16041cf8",
   "metadata": {},
   "outputs": [
    {
     "name": "stdout",
     "output_type": "stream",
     "text": [
      "0.5388097996627864\n"
     ]
    }
   ],
   "source": [
    "def calculateCost(x, y, w, b):\n",
    "    cost = 0\n",
    "    for i in range(len(y)):\n",
    "        cost += (((np.dot(w, x[i]) + b) - y[i])**2)\n",
    "    return (cost/(2*len(y)))\n",
    "print(calculateCost(X, Y, W, B))"
   ]
  },
  {
   "cell_type": "markdown",
   "id": "2e4d9a60",
   "metadata": {},
   "source": [
    "let's also make a function to calculate MOE (mean obsolute error)"
   ]
  },
  {
   "cell_type": "code",
   "execution_count": 160,
   "id": "295e104f",
   "metadata": {},
   "outputs": [
    {
     "name": "stdout",
     "output_type": "stream",
     "text": [
      "0.5976416438749139\n"
     ]
    }
   ],
   "source": [
    "def calculateMOE(x, y, w, b):\n",
    "    moe = 0\n",
    "    for i in range(len(y)):\n",
    "        moe += abs(np.dot(w, x[i]) + b - y[i])\n",
    "    return (moe/(len(y)))\n",
    "print(calculateMOE(X, Y, W, B))"
   ]
  },
  {
   "cell_type": "markdown",
   "id": "83c9c3cb",
   "metadata": {},
   "source": [
    "Now we will be making a function to calculate gradient for our gradient discent algo"
   ]
  },
  {
   "cell_type": "code",
   "execution_count": 161,
   "id": "625f4db8",
   "metadata": {},
   "outputs": [],
   "source": [
    "def getGradient(x, y, w, b):\n",
    "    grw = 0\n",
    "    grb = 0\n",
    "    for i in range(len(y)):\n",
    "        grw += ((np.dot(w, x[i]) + b) - y[i])*x[i]\n",
    "        grb += ((np.dot(w, x[i]) + b) - y[i])\n",
    "    return (grw/(len(y))), (grb/(len(y)))"
   ]
  },
  {
   "cell_type": "markdown",
   "id": "0c34008f",
   "metadata": {},
   "source": [
    "now perhaps we are ready to iterate and get the real values for w and b"
   ]
  },
  {
   "cell_type": "code",
   "execution_count": 162,
   "id": "7b156542",
   "metadata": {},
   "outputs": [
    {
     "name": "stdout",
     "output_type": "stream",
     "text": [
      "At iteration: 0 Cost: 0.5386897773563082 MOE: 0.5975305156106249 || Unseen MOE: 0.5606573651042349\n",
      "At iteration: 50 Cost: 0.5327257665109255 MOE: 0.5919741519150954 || Unseen MOE: 0.5551529029489569\n",
      "At iteration: 100 Cost: 0.526834509545411 MOE: 0.5864248457278262 || Unseen MOE: 0.549650227435265\n",
      "At iteration: 150 Cost: 0.5210160064597581 MOE: 0.5809016233299745 || Unseen MOE: 0.5441578632156875\n",
      "At iteration: 200 Cost: 0.5152702572539634 MOE: 0.5754445921269569 || Unseen MOE: 0.5387315403606351\n",
      "At iteration: 250 Cost: 0.5095972619280391 MOE: 0.5700033121744081 || Unseen MOE: 0.5333064401950341\n",
      "At iteration: 300 Cost: 0.5039970204819774 MOE: 0.5645856646013844 || Unseen MOE: 0.5278827418050335\n",
      "At iteration: 350 Cost: 0.49846953291577495 MOE: 0.5592035118364475 || Unseen MOE: 0.5224902087375835\n",
      "At iteration: 400 Cost: 0.4930147992294372 MOE: 0.5538713754089928 || Unseen MOE: 0.51714257967951\n",
      "At iteration: 450 Cost: 0.4876328194229633 MOE: 0.5485844746162647 || Unseen MOE: 0.5118360803154655\n",
      "At iteration: 500 Cost: 0.4823235934963471 MOE: 0.543317974446301 || Unseen MOE: 0.5065398722631248\n",
      "At iteration: 550 Cost: 0.4770871214495991 MOE: 0.5380572755456429 || Unseen MOE: 0.5012618888035953\n",
      "At iteration: 600 Cost: 0.47192340328271526 MOE: 0.5328114602316787 || Unseen MOE: 0.4959974294404104\n",
      "At iteration: 650 Cost: 0.4668324389956924 MOE: 0.5275907064855301 || Unseen MOE: 0.4907370037469526\n",
      "At iteration: 700 Cost: 0.4618142285885328 MOE: 0.5224044298322911 || Unseen MOE: 0.48550709969942707\n",
      "At iteration: 750 Cost: 0.4568687720612368 MOE: 0.5172406747286524 || Unseen MOE: 0.48028544899090775\n",
      "At iteration: 800 Cost: 0.45199606941380527 MOE: 0.5121201802891049 || Unseen MOE: 0.4750718142663908\n",
      "At iteration: 850 Cost: 0.4471961206462309 MOE: 0.5070103365389276 || Unseen MOE: 0.4698778011677097\n",
      "At iteration: 900 Cost: 0.4424689257585261 MOE: 0.5019248197435093 || Unseen MOE: 0.46471378456467716\n",
      "At iteration: 950 Cost: 0.4378144847506827 MOE: 0.49686017786492753 || Unseen MOE: 0.459571233218529\n",
      "At iteration: 1000 Cost: 0.43323279762270106 MOE: 0.49184510541923476 || Unseen MOE: 0.454434682665069\n",
      "At iteration: 1050 Cost: 0.4287238643745808 MOE: 0.4868612911493977 || Unseen MOE: 0.44934307219572284\n",
      "At iteration: 1100 Cost: 0.42428768500632846 MOE: 0.4819474469681664 || Unseen MOE: 0.4443058365524703\n",
      "At iteration: 1150 Cost: 0.41992425951793566 MOE: 0.47705863805232623 || Unseen MOE: 0.4392792245693545\n",
      "At iteration: 1200 Cost: 0.4156335879094059 MOE: 0.4721944824408856 || Unseen MOE: 0.4342571439277841\n",
      "At iteration: 1250 Cost: 0.41141567018074443 MOE: 0.4673715783050061 || Unseen MOE: 0.42925484613929427\n",
      "At iteration: 1300 Cost: 0.4072705063319451 MOE: 0.46256018250623276 || Unseen MOE: 0.4242550695013751\n",
      "At iteration: 1350 Cost: 0.40319809636300125 MOE: 0.45777561150320095 || Unseen MOE: 0.4192909394136316\n",
      "At iteration: 1400 Cost: 0.3991984402739268 MOE: 0.45301142970373287 || Unseen MOE: 0.4143361097090536\n",
      "At iteration: 1450 Cost: 0.3952715380647153 MOE: 0.44829281935142523 || Unseen MOE: 0.40939375847592924\n",
      "At iteration: 1500 Cost: 0.3914173897353663 MOE: 0.44361053622139246 || Unseen MOE: 0.40450061128692516\n",
      "At iteration: 1550 Cost: 0.3876359952858794 MOE: 0.4389741166569501 || Unseen MOE: 0.39962866819160897\n",
      "At iteration: 1600 Cost: 0.3839273547162554 MOE: 0.43437587584050796 || Unseen MOE: 0.39479910479838837\n",
      "At iteration: 1650 Cost: 0.3802914680264977 MOE: 0.4297962311790988 || Unseen MOE: 0.3899936208494271\n",
      "At iteration: 1700 Cost: 0.37672833521659826 MOE: 0.4252277760580655 || Unseen MOE: 0.3852085501490528\n",
      "At iteration: 1750 Cost: 0.37323795628656325 MOE: 0.42069706822398084 || Unseen MOE: 0.38045666825390934\n",
      "At iteration: 1800 Cost: 0.3698203312363961 MOE: 0.41623980302840724 || Unseen MOE: 0.37578086816115286\n",
      "At iteration: 1850 Cost: 0.36647546006608533 MOE: 0.4118574816452109 || Unseen MOE: 0.3712066689449865\n",
      "At iteration: 1900 Cost: 0.36320334277564137 MOE: 0.40758160319233366 || Unseen MOE: 0.3667545844195285\n",
      "At iteration: 1950 Cost: 0.3600039793650602 MOE: 0.40350368147681975 || Unseen MOE: 0.3624460191629814\n",
      "At iteration: 2000 Cost: 0.35687736983434243 MOE: 0.399510235867558 || Unseen MOE: 0.3581968798084221\n",
      "At iteration: 2050 Cost: 0.35382351418348945 MOE: 0.3955868574157005 || Unseen MOE: 0.35399335280794686\n",
      "At iteration: 2100 Cost: 0.3508424124124956 MOE: 0.3917163623523241 || Unseen MOE: 0.349856963323398\n",
      "At iteration: 2150 Cost: 0.34793406452136727 MOE: 0.3879265943587863 || Unseen MOE: 0.34586372070634513\n",
      "At iteration: 2200 Cost: 0.3450984705101025 MOE: 0.3842085284128647 || Unseen MOE: 0.34205550765594395\n",
      "At iteration: 2250 Cost: 0.342335630378702 MOE: 0.3806831171722003 || Unseen MOE: 0.33845718818942394\n",
      "At iteration: 2300 Cost: 0.3396455441271623 MOE: 0.3773699659657304 || Unseen MOE: 0.3350919339256175\n",
      "At iteration: 2350 Cost: 0.3370282117554861 MOE: 0.3741781315761092 || Unseen MOE: 0.33187684088931557\n",
      "At iteration: 2400 Cost: 0.33448363326367136 MOE: 0.37108825550815694 || Unseen MOE: 0.32884232724916745\n",
      "At iteration: 2450 Cost: 0.3320118086517225 MOE: 0.36812621712989796 || Unseen MOE: 0.3259429100107779\n",
      "At iteration: 2500 Cost: 0.32961273791963575 MOE: 0.36536101015422995 || Unseen MOE: 0.3231889197045016\n",
      "At iteration: 2550 Cost: 0.3272864210674128 MOE: 0.3628503766222654 || Unseen MOE: 0.3206119117198904\n",
      "At iteration: 2600 Cost: 0.3250328580950494 MOE: 0.3605304245977438 || Unseen MOE: 0.31823900298942825\n",
      "At iteration: 2650 Cost: 0.32285204900255565 MOE: 0.35836651894637234 || Unseen MOE: 0.31601300507403834\n",
      "At iteration: 2700 Cost: 0.3207439937899205 MOE: 0.3564424445106925 || Unseen MOE: 0.31407470979071306\n",
      "At iteration: 2750 Cost: 0.3187086924571485 MOE: 0.3547633810386828 || Unseen MOE: 0.31235615627363345\n",
      "At iteration: 2800 Cost: 0.3167461450042419 MOE: 0.3532944279420574 || Unseen MOE: 0.31083380670320837\n",
      "At iteration: 2850 Cost: 0.3148563514311954 MOE: 0.3520324554241627 || Unseen MOE: 0.3095537860084721\n",
      "At iteration: 2900 Cost: 0.31303931173801536 MOE: 0.3509502478756513 || Unseen MOE: 0.3084438155910995\n",
      "At iteration: 2950 Cost: 0.3112950259246949 MOE: 0.3500712309659965 || Unseen MOE: 0.3075200462325275\n",
      "[-0.1210527   0.20315603 -0.08391725  0.08666186  0.10835756 -0.00957062\n",
      "  0.13947946  0.07848258] 0.010376494399810946\n"
     ]
    }
   ],
   "source": [
    "def getWB(x, y, w, b):\n",
    "    global W, B, tX, tY\n",
    "    for i in range(ITERATIONS):\n",
    "        grw, grb = getGradient(x, y, w, b)\n",
    "        tw = W - ALPHA*grw\n",
    "        tb = B - ALPHA*grb\n",
    "        W, B = tw, tb\n",
    "        if i%50 == 0:\n",
    "            print(\"At iteration:\", i, \"Cost:\", calculateCost(X, Y, W, B), \"MOE:\", calculateMOE(X, Y, W, B), \"|| Unseen MOE:\", calculateMOE(tX, tY, W, B))\n",
    "getWB(X, Y, W, B)\n",
    "print(W, B)"
   ]
  },
  {
   "cell_type": "code",
   "execution_count": 163,
   "id": "17352005",
   "metadata": {},
   "outputs": [
    {
     "name": "stdout",
     "output_type": "stream",
     "text": [
      "3353611.798859672 1098000.0\n"
     ]
    }
   ],
   "source": [
    "prices = np.dot(W, dX[0]) + B\n",
    "print(prices*stdY + muY, dY[0]*stdY + muY)"
   ]
  },
  {
   "cell_type": "markdown",
   "id": "2591cbbd",
   "metadata": {},
   "source": [
    "## So now our model isn't learning...\n",
    "33L predicted vs 10.9L real is very very wrong!!!\n",
    "\n",
    "now we will be doing some feature engineering and then using regularization."
   ]
  }
 ],
 "metadata": {
  "kernelspec": {
   "display_name": "base",
   "language": "python",
   "name": "python3"
  },
  "language_info": {
   "codemirror_mode": {
    "name": "ipython",
    "version": 3
   },
   "file_extension": ".py",
   "mimetype": "text/x-python",
   "name": "python",
   "nbconvert_exporter": "python",
   "pygments_lexer": "ipython3",
   "version": "3.12.7"
  }
 },
 "nbformat": 4,
 "nbformat_minor": 5
}
